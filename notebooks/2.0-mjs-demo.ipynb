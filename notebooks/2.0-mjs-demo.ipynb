{
 "cells": [
  {
   "cell_type": "code",
   "execution_count": 1,
   "metadata": {},
   "outputs": [],
   "source": [
    "%load_ext autoreload\n",
    "%autoreload 2"
   ]
  },
  {
   "cell_type": "markdown",
   "metadata": {},
   "source": [
    "## Preliminaries"
   ]
  },
  {
   "cell_type": "code",
   "execution_count": 2,
   "metadata": {},
   "outputs": [],
   "source": [
    "import funcy\n",
    "import matplotlib\n",
    "import matplotlib.pyplot as plt\n",
    "import numpy as np\n",
    "import pandas as pd\n",
    "import seaborn as sns\n",
    "\n",
    "%matplotlib inline\n",
    "sns.set()\n",
    "\n",
    "pd.options.display.max_columns = 99"
   ]
  },
  {
   "cell_type": "code",
   "execution_count": 3,
   "metadata": {},
   "outputs": [],
   "source": [
    "from dengue_prediction.data.make_dataset import load_data\n",
    "from dengue_prediction.features.build_features import build_features, build_target\n",
    "from dengue_prediction.features.features import get_feature_transformations"
   ]
  },
  {
   "cell_type": "markdown",
   "metadata": {},
   "source": [
    "## Explore the data\n",
    "\n",
    "We are trying to predict the number of cases of dengue fever in San Juan, Puerto Rico, USA and Iquitos, Peru. The full problem description is available at https://www.drivendata.org/competitions/44/dengai-predicting-disease-spread/page/82/."
   ]
  },
  {
   "cell_type": "code",
   "execution_count": 4,
   "metadata": {},
   "outputs": [],
   "source": [
    "X_df, y_df = load_data()"
   ]
  },
  {
   "cell_type": "code",
   "execution_count": 5,
   "metadata": {},
   "outputs": [
    {
     "data": {
      "text/html": [
       "<div>\n",
       "<style scoped>\n",
       "    .dataframe tbody tr th:only-of-type {\n",
       "        vertical-align: middle;\n",
       "    }\n",
       "\n",
       "    .dataframe tbody tr th {\n",
       "        vertical-align: top;\n",
       "    }\n",
       "\n",
       "    .dataframe thead th {\n",
       "        text-align: right;\n",
       "    }\n",
       "</style>\n",
       "<table border=\"1\" class=\"dataframe\">\n",
       "  <thead>\n",
       "    <tr style=\"text-align: right;\">\n",
       "      <th></th>\n",
       "      <th></th>\n",
       "      <th></th>\n",
       "      <th>week_start_date</th>\n",
       "      <th>ndvi_ne</th>\n",
       "      <th>ndvi_nw</th>\n",
       "      <th>ndvi_se</th>\n",
       "      <th>ndvi_sw</th>\n",
       "      <th>precipitation_amt_mm</th>\n",
       "      <th>reanalysis_air_temp_k</th>\n",
       "      <th>reanalysis_avg_temp_k</th>\n",
       "      <th>reanalysis_dew_point_temp_k</th>\n",
       "      <th>reanalysis_max_air_temp_k</th>\n",
       "      <th>reanalysis_min_air_temp_k</th>\n",
       "      <th>reanalysis_precip_amt_kg_per_m2</th>\n",
       "      <th>reanalysis_relative_humidity_percent</th>\n",
       "      <th>reanalysis_sat_precip_amt_mm</th>\n",
       "      <th>reanalysis_specific_humidity_g_per_kg</th>\n",
       "      <th>reanalysis_tdtr_k</th>\n",
       "      <th>station_avg_temp_c</th>\n",
       "      <th>station_diur_temp_rng_c</th>\n",
       "      <th>station_max_temp_c</th>\n",
       "      <th>station_min_temp_c</th>\n",
       "      <th>station_precip_mm</th>\n",
       "    </tr>\n",
       "    <tr>\n",
       "      <th>city</th>\n",
       "      <th>year</th>\n",
       "      <th>weekofyear</th>\n",
       "      <th></th>\n",
       "      <th></th>\n",
       "      <th></th>\n",
       "      <th></th>\n",
       "      <th></th>\n",
       "      <th></th>\n",
       "      <th></th>\n",
       "      <th></th>\n",
       "      <th></th>\n",
       "      <th></th>\n",
       "      <th></th>\n",
       "      <th></th>\n",
       "      <th></th>\n",
       "      <th></th>\n",
       "      <th></th>\n",
       "      <th></th>\n",
       "      <th></th>\n",
       "      <th></th>\n",
       "      <th></th>\n",
       "      <th></th>\n",
       "      <th></th>\n",
       "    </tr>\n",
       "  </thead>\n",
       "  <tbody>\n",
       "    <tr>\n",
       "      <th rowspan=\"5\" valign=\"top\">sj</th>\n",
       "      <th rowspan=\"5\" valign=\"top\">1990</th>\n",
       "      <th>18</th>\n",
       "      <td>1990-04-30</td>\n",
       "      <td>0.122600</td>\n",
       "      <td>0.103725</td>\n",
       "      <td>0.198483</td>\n",
       "      <td>0.177617</td>\n",
       "      <td>12.42</td>\n",
       "      <td>297.572857</td>\n",
       "      <td>297.742857</td>\n",
       "      <td>292.414286</td>\n",
       "      <td>299.8</td>\n",
       "      <td>295.9</td>\n",
       "      <td>32.00</td>\n",
       "      <td>73.365714</td>\n",
       "      <td>12.42</td>\n",
       "      <td>14.012857</td>\n",
       "      <td>2.628571</td>\n",
       "      <td>25.442857</td>\n",
       "      <td>6.900000</td>\n",
       "      <td>29.4</td>\n",
       "      <td>20.0</td>\n",
       "      <td>16.0</td>\n",
       "    </tr>\n",
       "    <tr>\n",
       "      <th>19</th>\n",
       "      <td>1990-05-07</td>\n",
       "      <td>0.169900</td>\n",
       "      <td>0.142175</td>\n",
       "      <td>0.162357</td>\n",
       "      <td>0.155486</td>\n",
       "      <td>22.82</td>\n",
       "      <td>298.211429</td>\n",
       "      <td>298.442857</td>\n",
       "      <td>293.951429</td>\n",
       "      <td>300.9</td>\n",
       "      <td>296.4</td>\n",
       "      <td>17.94</td>\n",
       "      <td>77.368571</td>\n",
       "      <td>22.82</td>\n",
       "      <td>15.372857</td>\n",
       "      <td>2.371429</td>\n",
       "      <td>26.714286</td>\n",
       "      <td>6.371429</td>\n",
       "      <td>31.7</td>\n",
       "      <td>22.2</td>\n",
       "      <td>8.6</td>\n",
       "    </tr>\n",
       "    <tr>\n",
       "      <th>20</th>\n",
       "      <td>1990-05-14</td>\n",
       "      <td>0.032250</td>\n",
       "      <td>0.172967</td>\n",
       "      <td>0.157200</td>\n",
       "      <td>0.170843</td>\n",
       "      <td>34.54</td>\n",
       "      <td>298.781429</td>\n",
       "      <td>298.878571</td>\n",
       "      <td>295.434286</td>\n",
       "      <td>300.5</td>\n",
       "      <td>297.3</td>\n",
       "      <td>26.10</td>\n",
       "      <td>82.052857</td>\n",
       "      <td>34.54</td>\n",
       "      <td>16.848571</td>\n",
       "      <td>2.300000</td>\n",
       "      <td>26.714286</td>\n",
       "      <td>6.485714</td>\n",
       "      <td>32.2</td>\n",
       "      <td>22.8</td>\n",
       "      <td>41.4</td>\n",
       "    </tr>\n",
       "    <tr>\n",
       "      <th>21</th>\n",
       "      <td>1990-05-21</td>\n",
       "      <td>0.128633</td>\n",
       "      <td>0.245067</td>\n",
       "      <td>0.227557</td>\n",
       "      <td>0.235886</td>\n",
       "      <td>15.36</td>\n",
       "      <td>298.987143</td>\n",
       "      <td>299.228571</td>\n",
       "      <td>295.310000</td>\n",
       "      <td>301.4</td>\n",
       "      <td>297.0</td>\n",
       "      <td>13.90</td>\n",
       "      <td>80.337143</td>\n",
       "      <td>15.36</td>\n",
       "      <td>16.672857</td>\n",
       "      <td>2.428571</td>\n",
       "      <td>27.471429</td>\n",
       "      <td>6.771429</td>\n",
       "      <td>33.3</td>\n",
       "      <td>23.3</td>\n",
       "      <td>4.0</td>\n",
       "    </tr>\n",
       "    <tr>\n",
       "      <th>22</th>\n",
       "      <td>1990-05-28</td>\n",
       "      <td>0.196200</td>\n",
       "      <td>0.262200</td>\n",
       "      <td>0.251200</td>\n",
       "      <td>0.247340</td>\n",
       "      <td>7.52</td>\n",
       "      <td>299.518571</td>\n",
       "      <td>299.664286</td>\n",
       "      <td>295.821429</td>\n",
       "      <td>301.9</td>\n",
       "      <td>297.5</td>\n",
       "      <td>12.20</td>\n",
       "      <td>80.460000</td>\n",
       "      <td>7.52</td>\n",
       "      <td>17.210000</td>\n",
       "      <td>3.014286</td>\n",
       "      <td>28.942857</td>\n",
       "      <td>9.371429</td>\n",
       "      <td>35.0</td>\n",
       "      <td>23.9</td>\n",
       "      <td>5.8</td>\n",
       "    </tr>\n",
       "  </tbody>\n",
       "</table>\n",
       "</div>"
      ],
      "text/plain": [
       "                     week_start_date   ndvi_ne   ndvi_nw   ndvi_se   ndvi_sw  \\\n",
       "city year weekofyear                                                           \n",
       "sj   1990 18              1990-04-30  0.122600  0.103725  0.198483  0.177617   \n",
       "          19              1990-05-07  0.169900  0.142175  0.162357  0.155486   \n",
       "          20              1990-05-14  0.032250  0.172967  0.157200  0.170843   \n",
       "          21              1990-05-21  0.128633  0.245067  0.227557  0.235886   \n",
       "          22              1990-05-28  0.196200  0.262200  0.251200  0.247340   \n",
       "\n",
       "                      precipitation_amt_mm  reanalysis_air_temp_k  \\\n",
       "city year weekofyear                                                \n",
       "sj   1990 18                         12.42             297.572857   \n",
       "          19                         22.82             298.211429   \n",
       "          20                         34.54             298.781429   \n",
       "          21                         15.36             298.987143   \n",
       "          22                          7.52             299.518571   \n",
       "\n",
       "                      reanalysis_avg_temp_k  reanalysis_dew_point_temp_k  \\\n",
       "city year weekofyear                                                       \n",
       "sj   1990 18                     297.742857                   292.414286   \n",
       "          19                     298.442857                   293.951429   \n",
       "          20                     298.878571                   295.434286   \n",
       "          21                     299.228571                   295.310000   \n",
       "          22                     299.664286                   295.821429   \n",
       "\n",
       "                      reanalysis_max_air_temp_k  reanalysis_min_air_temp_k  \\\n",
       "city year weekofyear                                                         \n",
       "sj   1990 18                              299.8                      295.9   \n",
       "          19                              300.9                      296.4   \n",
       "          20                              300.5                      297.3   \n",
       "          21                              301.4                      297.0   \n",
       "          22                              301.9                      297.5   \n",
       "\n",
       "                      reanalysis_precip_amt_kg_per_m2  \\\n",
       "city year weekofyear                                    \n",
       "sj   1990 18                                    32.00   \n",
       "          19                                    17.94   \n",
       "          20                                    26.10   \n",
       "          21                                    13.90   \n",
       "          22                                    12.20   \n",
       "\n",
       "                      reanalysis_relative_humidity_percent  \\\n",
       "city year weekofyear                                         \n",
       "sj   1990 18                                     73.365714   \n",
       "          19                                     77.368571   \n",
       "          20                                     82.052857   \n",
       "          21                                     80.337143   \n",
       "          22                                     80.460000   \n",
       "\n",
       "                      reanalysis_sat_precip_amt_mm  \\\n",
       "city year weekofyear                                 \n",
       "sj   1990 18                                 12.42   \n",
       "          19                                 22.82   \n",
       "          20                                 34.54   \n",
       "          21                                 15.36   \n",
       "          22                                  7.52   \n",
       "\n",
       "                      reanalysis_specific_humidity_g_per_kg  \\\n",
       "city year weekofyear                                          \n",
       "sj   1990 18                                      14.012857   \n",
       "          19                                      15.372857   \n",
       "          20                                      16.848571   \n",
       "          21                                      16.672857   \n",
       "          22                                      17.210000   \n",
       "\n",
       "                      reanalysis_tdtr_k  station_avg_temp_c  \\\n",
       "city year weekofyear                                          \n",
       "sj   1990 18                   2.628571           25.442857   \n",
       "          19                   2.371429           26.714286   \n",
       "          20                   2.300000           26.714286   \n",
       "          21                   2.428571           27.471429   \n",
       "          22                   3.014286           28.942857   \n",
       "\n",
       "                      station_diur_temp_rng_c  station_max_temp_c  \\\n",
       "city year weekofyear                                                \n",
       "sj   1990 18                         6.900000                29.4   \n",
       "          19                         6.371429                31.7   \n",
       "          20                         6.485714                32.2   \n",
       "          21                         6.771429                33.3   \n",
       "          22                         9.371429                35.0   \n",
       "\n",
       "                      station_min_temp_c  station_precip_mm  \n",
       "city year weekofyear                                         \n",
       "sj   1990 18                        20.0               16.0  \n",
       "          19                        22.2                8.6  \n",
       "          20                        22.8               41.4  \n",
       "          21                        23.3                4.0  \n",
       "          22                        23.9                5.8  "
      ]
     },
     "execution_count": 5,
     "metadata": {},
     "output_type": "execute_result"
    }
   ],
   "source": [
    "X_df.head()"
   ]
  },
  {
   "cell_type": "code",
   "execution_count": 6,
   "metadata": {},
   "outputs": [
    {
     "data": {
      "text/plain": [
       "(1456, 21)"
      ]
     },
     "execution_count": 6,
     "metadata": {},
     "output_type": "execute_result"
    }
   ],
   "source": [
    "X_df.shape"
   ]
  },
  {
   "cell_type": "code",
   "execution_count": 7,
   "metadata": {},
   "outputs": [
    {
     "data": {
      "text/html": [
       "<div>\n",
       "<style scoped>\n",
       "    .dataframe tbody tr th:only-of-type {\n",
       "        vertical-align: middle;\n",
       "    }\n",
       "\n",
       "    .dataframe tbody tr th {\n",
       "        vertical-align: top;\n",
       "    }\n",
       "\n",
       "    .dataframe thead th {\n",
       "        text-align: right;\n",
       "    }\n",
       "</style>\n",
       "<table border=\"1\" class=\"dataframe\">\n",
       "  <thead>\n",
       "    <tr style=\"text-align: right;\">\n",
       "      <th></th>\n",
       "      <th></th>\n",
       "      <th></th>\n",
       "      <th>total_cases</th>\n",
       "    </tr>\n",
       "    <tr>\n",
       "      <th>city</th>\n",
       "      <th>year</th>\n",
       "      <th>weekofyear</th>\n",
       "      <th></th>\n",
       "    </tr>\n",
       "  </thead>\n",
       "  <tbody>\n",
       "    <tr>\n",
       "      <th rowspan=\"5\" valign=\"top\">sj</th>\n",
       "      <th rowspan=\"5\" valign=\"top\">1990</th>\n",
       "      <th>18</th>\n",
       "      <td>4</td>\n",
       "    </tr>\n",
       "    <tr>\n",
       "      <th>19</th>\n",
       "      <td>5</td>\n",
       "    </tr>\n",
       "    <tr>\n",
       "      <th>20</th>\n",
       "      <td>4</td>\n",
       "    </tr>\n",
       "    <tr>\n",
       "      <th>21</th>\n",
       "      <td>3</td>\n",
       "    </tr>\n",
       "    <tr>\n",
       "      <th>22</th>\n",
       "      <td>6</td>\n",
       "    </tr>\n",
       "  </tbody>\n",
       "</table>\n",
       "</div>"
      ],
      "text/plain": [
       "                      total_cases\n",
       "city year weekofyear             \n",
       "sj   1990 18                    4\n",
       "          19                    5\n",
       "          20                    4\n",
       "          21                    3\n",
       "          22                    6"
      ]
     },
     "execution_count": 7,
     "metadata": {},
     "output_type": "execute_result"
    }
   ],
   "source": [
    "y_df.head()"
   ]
  },
  {
   "cell_type": "code",
   "execution_count": 8,
   "metadata": {},
   "outputs": [
    {
     "name": "stderr",
     "output_type": "stream",
     "text": [
      "/usr/local/anaconda3/envs/dengue_prediction/lib/python3.6/site-packages/matplotlib/axes/_axes.py:6462: UserWarning: The 'normed' kwarg is deprecated, and has been replaced by the 'density' kwarg.\n",
      "  warnings.warn(\"The 'normed' kwarg is deprecated, and has been \"\n"
     ]
    },
    {
     "data": {
      "image/png": "[encoded data removed]",
      "text/plain": [
       "<Figure size 475.875x432 with 1 Axes>"
      ]
     },
     "metadata": {},
     "output_type": "display_data"
    }
   ],
   "source": [
    "from dengue_prediction import PROJECT_ROOT\n",
    "data = y_df.copy()\n",
    "data = data.reset_index()[['city', 'total_cases']]\n",
    "g = sns.FacetGrid(data=data, hue='city', size=6, aspect=1.0)\n",
    "g = g.map(sns.distplot, 'total_cases')\n",
    "g = g.add_legend()\n",
    "plt.savefig(PROJECT_ROOT.joinpath('reports', 'figures', 'y.png'))"
   ]
  },
  {
   "cell_type": "markdown",
   "metadata": {},
   "source": [
    "## Feature engineering\n",
    "\n",
    "### What features have already been created?"
   ]
  },
  {
   "cell_type": "code",
   "execution_count": 9,
   "metadata": {},
   "outputs": [
    {
     "name": "stderr",
     "output_type": "stream",
     "text": [
      "/usr/local/anaconda3/envs/dengue_prediction/lib/python3.6/site-packages/sklearn_pandas-1.6.0-py3.6.egg/sklearn_pandas/pipeline.py:24: PerformanceWarning: indexing past lexsort depth may impact performance.\n",
      "  return fit_method(X, y, **kwargs)\n",
      "/usr/local/anaconda3/envs/dengue_prediction/lib/python3.6/site-packages/fhub_core-0.3.3-py3.6.egg/fhub_core/feature.py:50: PerformanceWarning: indexing past lexsort depth may impact performance.\n",
      "  return func(convert(X), **kwargs)\n"
     ]
    }
   ],
   "source": [
    "X_df_tr, mapper_X = build_features(X_df)"
   ]
  },
  {
   "cell_type": "code",
   "execution_count": 10,
   "metadata": {},
   "outputs": [
    {
     "data": {
      "text/plain": [
       "array([[ 1.86187825e+00,  5.40614117e-01,  3.27374273e+00, ...,\n",
       "         4.44642117e-01,  3.41786611e-02,  3.03324573e+02],\n",
       "       [ 1.16958091e+00,  4.74224382e-01,  4.12082420e+00, ...,\n",
       "         6.17927284e-01,  1.24186726e+00,  3.03324573e+02],\n",
       "       [ 2.07533379e-02, -8.86925081e-01,  4.03459456e+00, ...,\n",
       "         3.27935343e-01,  3.77331117e-01,  3.03324573e+02],\n",
       "       ...,\n",
       "       [-8.72502810e-01, -7.28822914e-01,  2.88814706e+00, ...,\n",
       "        -2.07411085e+00, -1.51911987e+00,  3.01200000e+02],\n",
       "       [ 1.78685749e-02,  9.31718097e-02,  0.00000000e+00, ...,\n",
       "        -9.38056669e-01, -1.51911987e+00,  3.01700000e+02],\n",
       "       [-1.68614340e+00, -1.33522365e+00,  0.00000000e+00, ...,\n",
       "        -1.21881401e+00, -1.16327426e+00,  3.02800000e+02]])"
      ]
     },
     "execution_count": 10,
     "metadata": {},
     "output_type": "execute_result"
    }
   ],
   "source": [
    "X_df_tr"
   ]
  },
  {
   "cell_type": "code",
   "execution_count": 11,
   "metadata": {},
   "outputs": [
    {
     "data": {
      "text/plain": [
       "(1456, 46)"
      ]
     },
     "execution_count": 11,
     "metadata": {},
     "output_type": "execute_result"
    }
   ],
   "source": [
    "X_df_tr.shape"
   ]
  },
  {
   "cell_type": "code",
   "execution_count": 12,
   "metadata": {},
   "outputs": [
    {
     "data": {
      "text/plain": [
       "DataFrameMapper(default=False, df_out=False,\n",
       "        features=[('ndvi_se', RobustTransformerPipeline(steps=[('lagimputer', LagImputer(groupby_kwargs={'level': 'city'})), ('imputer', Imputer(axis=0, copy=True, missing_values='NaN', strategy='mean', verbose=0)), ('standardscaler', StandardScaler(copy=True, with_mean=True, with_std=True))])), ('ndvi_sw',...one)), ('imputer', Imputer(axis=0, copy=True, missing_values='NaN', strategy='mean', verbose=0))]))],\n",
       "        input_df=True, sparse=False)"
      ]
     },
     "execution_count": 12,
     "metadata": {},
     "output_type": "execute_result"
    }
   ],
   "source": [
    "mapper_X"
   ]
  },
  {
   "cell_type": "code",
   "execution_count": 13,
   "metadata": {},
   "outputs": [],
   "source": [
    "y_df_tr, mapper_y = build_target(y_df)"
   ]
  },
  {
   "cell_type": "markdown",
   "metadata": {},
   "source": [
    "### What do features look like?"
   ]
  },
  {
   "cell_type": "code",
   "execution_count": 14,
   "metadata": {},
   "outputs": [],
   "source": [
    "features = get_feature_transformations()"
   ]
  },
  {
   "cell_type": "code",
   "execution_count": 15,
   "metadata": {},
   "outputs": [
    {
     "data": {
      "text/plain": [
       "Feature(input='ndvi_se', transformer=RobustTransformerPipeline(steps=[('lagimputer', LagImputer(groupby_kwargs={'level': 'city'})), ('imputer', Imputer(axis=0, copy=True, missing_values='NaN', strategy='mean', verbose=0)), ('standardscaler', StandardScaler(copy=True, with_mean=True, with_std=True))]), name=None, description=None, output=None, source=None, options={})"
      ]
     },
     "execution_count": 15,
     "metadata": {},
     "output_type": "execute_result"
    }
   ],
   "source": [
    "features[0]"
   ]
  },
  {
   "cell_type": "markdown",
   "metadata": {},
   "source": [
    "### Let's create a feature!"
   ]
  },
  {
   "cell_type": "code",
   "execution_count": 16,
   "metadata": {},
   "outputs": [],
   "source": [
    "from fhub_core import Feature\n",
    "from fhub_transformers.missing import LagImputer\n",
    "from sklearn.preprocessing import Imputer, StandardScaler"
   ]
  },
  {
   "cell_type": "code",
   "execution_count": 17,
   "metadata": {},
   "outputs": [],
   "source": [
    "input = 'ndvi_se'\n",
    "transformer = [\n",
    "    LagImputer(groupby_kwargs={'level': 'city'}),\n",
    "    Imputer(),\n",
    "    StandardScaler(),\n",
    "]"
   ]
  },
  {
   "cell_type": "code",
   "execution_count": 18,
   "metadata": {},
   "outputs": [
    {
     "data": {
      "text/plain": [
       "array([[ 1.86187825],\n",
       "       [ 1.16958091],\n",
       "       [ 0.02075334],\n",
       "       ...,\n",
       "       [-0.87250281],\n",
       "       [ 0.01786857],\n",
       "       [-1.6861434 ]])"
      ]
     },
     "execution_count": 18,
     "metadata": {},
     "output_type": "execute_result"
    }
   ],
   "source": [
    "X_df, y_df = load_data()\n",
    "feature = Feature(input=input, transformer=transformer)\n",
    "mapper = feature.as_dataframe_mapper()\n",
    "mapper.fit(X_df, y_df)\n",
    "mapper.transform(X_df)"
   ]
  },
  {
   "cell_type": "markdown",
   "metadata": {},
   "source": [
    "## Modeling, just for fun"
   ]
  },
  {
   "cell_type": "code",
   "execution_count": 19,
   "metadata": {},
   "outputs": [],
   "source": [
    "from dengue_prediction.models.modeler import create_model"
   ]
  },
  {
   "cell_type": "code",
   "execution_count": 20,
   "metadata": {},
   "outputs": [],
   "source": [
    "model = create_model()\n",
    "model.fit(X_df_tr, y_df_tr)"
   ]
  },
  {
   "cell_type": "code",
   "execution_count": 21,
   "metadata": {},
   "outputs": [
    {
     "data": {
      "text/plain": [
       "0.7201535418157748"
      ]
     },
     "execution_count": 21,
     "metadata": {},
     "output_type": "execute_result"
    }
   ],
   "source": [
    "model.score(X_df_tr, y_df_tr)"
   ]
  },
  {
   "cell_type": "code",
   "execution_count": 22,
   "metadata": {},
   "outputs": [
    {
     "data": {
      "text/plain": [
       "array([27.28377256, 26.66446263, 27.33911793, ..., 11.50973677,\n",
       "       11.24686181, 12.44212455])"
      ]
     },
     "execution_count": 22,
     "metadata": {},
     "output_type": "execute_result"
    }
   ],
   "source": [
    "model.predict(X_df_tr)"
   ]
  }
 ],
 "metadata": {
  "kernelspec": {
   "display_name": "Python [conda env:dengue_prediction]",
   "language": "python",
   "name": "conda-env-dengue_prediction-py"
  },
  "language_info": {
   "codemirror_mode": {
    "name": "ipython",
    "version": 3
   },
   "file_extension": ".py",
   "mimetype": "text/x-python",
   "name": "python",
   "nbconvert_exporter": "python",
   "pygments_lexer": "ipython3",
   "version": "3.6.5"
  }
 },
 "nbformat": 4,
 "nbformat_minor": 2
}
